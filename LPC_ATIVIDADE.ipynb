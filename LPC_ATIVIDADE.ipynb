{
  "nbformat": 4,
  "nbformat_minor": 0,
  "metadata": {
    "colab": {
      "name": "LPC - ATIVIDADE.ipynb",
      "provenance": [],
      "authorship_tag": "ABX9TyMZMkXgcgOq0awUxCEZkOl1",
      "include_colab_link": true
    },
    "kernelspec": {
      "name": "python3",
      "display_name": "Python 3"
    },
    "language_info": {
      "name": "python"
    }
  },
  "cells": [
    {
      "cell_type": "markdown",
      "metadata": {
        "id": "view-in-github",
        "colab_type": "text"
      },
      "source": [
        "<a href=\"https://colab.research.google.com/github/CintiaGuimaraess/Codigos/blob/main/LPC_ATIVIDADE.ipynb\" target=\"_parent\"><img src=\"https://colab.research.google.com/assets/colab-badge.svg\" alt=\"Open In Colab\"/></a>"
      ]
    },
    {
      "cell_type": "code",
      "metadata": {
        "id": "MnE2u8wTOqbO"
      },
      "source": [
        "#ETE PORTO DIGITAL\n",
        "#PROFESSOR: CLOVES ROCHA\n",
        "#DISCIPLINA: LPC\n",
        "#Alunos: Cíntia Maria e Kauã Richard\n",
        "#1°- B\n",
        "\n",
        "#Desenvolva [em dupla] um algoritmo/programa que:\n",
        "#1. Execute comandos de controle/decisão de um aeromodelo:\n",
        "\n",
        "#Obs.: os valores estão em m/s, e não coloque velocidades negativas nos códigos abaixo.\n",
        "\n",
        "v1 = float(input('Velocidade do aeromodelo na SUBIDA: \\n'))\n",
        "for i in range(0, 1):\n",
        "  if (0 < v1 < 30): #1 ACELERAR;\n",
        "    print(f'O aeromodelo acelerou a {v1} m/s.')\n",
        "  elif (30 <= v1): #2 DECOLAR;\n",
        "    print(f'O aeromodelo a {v1} m/s está decolando/decolou.')\n",
        "\n",
        "\n",
        "v2 = float(input('Velocidade do aeromodelo na DESCIDA: \\n'))\n",
        "for i in range(0, 1):\n",
        "  if (15 < v2 < 50): #3 PLANAR;\n",
        "    print('O aeromodelo está planando/planou.')\n",
        "  elif (5 < v2 <= 15): #4 FUNÇÃO PILOTO AUTOMÁTICO;\n",
        "    print('O Piloto Automático foi executado com sucesso.')\n",
        "  elif (v2 == 0): #5 POUSO;\n",
        "    print(f'O aeromodelo a {v2} m/s está em repouso, ou seja, não se encontra sob uma aceleração.')\n",
        "  else: #6 EXTRA.\n",
        "    print('O aeromodelo ainda está decolando.')\n",
        "\n"
      ],
      "execution_count": null,
      "outputs": []
    }
  ]
}