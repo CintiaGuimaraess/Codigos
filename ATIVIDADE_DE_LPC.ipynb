{
  "nbformat": 4,
  "nbformat_minor": 0,
  "metadata": {
    "colab": {
      "name": "ATIVIDADE DE LPC.ipynb",
      "provenance": [],
      "authorship_tag": "ABX9TyOm4Erw2GcRwFolmftUb5+I",
      "include_colab_link": true
    },
    "kernelspec": {
      "name": "python3",
      "display_name": "Python 3"
    },
    "language_info": {
      "name": "python"
    }
  },
  "cells": [
    {
      "cell_type": "markdown",
      "metadata": {
        "id": "view-in-github",
        "colab_type": "text"
      },
      "source": [
        "<a href=\"https://colab.research.google.com/github/CintiaGuimaraess/Codigos/blob/main/ATIVIDADE_DE_LPC.ipynb\" target=\"_parent\"><img src=\"https://colab.research.google.com/assets/colab-badge.svg\" alt=\"Open In Colab\"/></a>"
      ]
    },
    {
      "cell_type": "code",
      "metadata": {
        "id": "ysGN0t0PLNcX"
      },
      "source": [
        "#ETE PORTO DIGITAL\n",
        "#PROFESSOR: CLOVES ROCHA\n",
        "#DISCIPLINA: LPC\n",
        "#Aluna: Cíntia Maria de Carvalho Guimarães\n",
        "#1°- B\n",
        "\n",
        "#[AP1] Exercícios II e Desafios I - 2º BIMESTRE\n",
        "#TRANSFORME ALGORITMOS EM CÓDIGOS DE SINTAXE PYTHON.\n",
        "\n",
        "#1 Vale 0,5 na N1 do 2º BIMESTRE.\n",
        "\n",
        "vet = [1,2,3,4,5,6,7,8,9,10]\n",
        "for i in range (0,10):\n",
        "  print(vet[i])\n",
        "\n",
        "  "
      ],
      "execution_count": null,
      "outputs": []
    },
    {
      "cell_type": "code",
      "metadata": {
        "id": "QEydZWRGLShw"
      },
      "source": [
        "#2 Vale 0,5 na N1 do 2º BIMESTRE.\n",
        "\n",
        "n = [1,2,3,4,5,6,7,8,9,10,11,12,13,14,15,16,17,18,19]\n",
        "\n",
        "for i in range(0,19):\n",
        "  if (n[i] > 19):\n",
        "    print(f\"O número 19 é menor do que {n[i]}.\")\n",
        "\n",
        "  elif (n[i] == 19):\n",
        "    print(f\"\")\n",
        "\n",
        "  else:\n",
        "    print(f\"O número 19 é maior do que {n[i]}.\")\n",
        "\n",
        "  n.append(19+i)\n",
        "\n",
        "vet = [10, 12, 29, 34, 36, 90, 121, 900, 928]\n",
        "\n",
        "vet.sort()\n",
        "print(vet[-1])\n",
        "\n",
        "\n",
        "  "
      ],
      "execution_count": null,
      "outputs": []
    },
    {
      "cell_type": "code",
      "metadata": {
        "id": "e8iMZcwOLYgB"
      },
      "source": [
        "#3 Vale 0,5 na N1 do 2º BIMESTRE.\n",
        "\n",
        "vet1 = [5, 6, 7, 9, 10, 76, 90, 94, 95 , 96, 98, 99, 205, 206, 208, 210, 250, 290, 300, 310, 340, 360, 389, 390, 392, 394, 397, 398, 340]\n",
        "vet2 = [8, 9, 10, 12, 25, 27, 28, 30, 38, 49, 60, 68, 85, 89, 93, 94, 98, 100, 101, 102, 103, 105, 108, 109, 110, 192, 194, 197, 200]\n",
        "vetSoma = []\n",
        "\n",
        "for _ in range(0, 29):\n",
        "    vetSoma.append(vet1[-1] + vet2[-1])\n",
        "    vet1.pop()\n",
        "    vet2.pop()\n",
        "print(vetSoma)\n",
        "\n"
      ],
      "execution_count": null,
      "outputs": []
    },
    {
      "cell_type": "code",
      "metadata": {
        "id": "XTuwYQeELdFi"
      },
      "source": [
        "#4 Vale 0,5 na N1 do 2º BIMESTRE.\n",
        "\n",
        "n = [0,1,2,3,4,5,6,7,8,9,10,11,12,13,14]\n",
        "n2 = []\n",
        "for i in range(0,14):\n",
        "  if (n[i] % 2 == 0):\n",
        "    n2.append(n)\n",
        "    print(f\"O número {n[i]} é par.\")\n",
        "  else:\n",
        "    print(f\"O número {n[i]} é ímpar\")\n",
        "\n",
        "vet1 = [0, 1, 2, 3, 4, 5, 6, 7, 8, 9, 10, 11, 12, 13, 14]\n",
        "vet2 = []\n",
        "for valor in vet1:\n",
        "    if(valor % 2 == 0):\n",
        "        vet2.append(valor)\n",
        "print(vet2)\n",
        "\n",
        "\n"
      ],
      "execution_count": null,
      "outputs": []
    },
    {
      "cell_type": "code",
      "metadata": {
        "id": "xbE8EFcdLjhk"
      },
      "source": [
        "#5 Vale 0,5 na N1 do 2º BIMESTRE.\n",
        "\n",
        "n = [-15, -6, -4, -7, -5, -12, 5, 6, 7, 8, 9, 10]\n",
        "s = []\n",
        "for valor in n:\n",
        "    if(valor > 0):\n",
        "        s.append(valor)\n",
        "print(f'Apenas os números {s} são positivos. \\n')\n",
        "\n",
        "\n",
        "# Obs.: Código opcional:\n",
        "\n",
        "p = float(input('Digite um número: '))\n",
        "for i in range(0, 9):\n",
        "  if (p > 0):\n",
        "    print(f'O número {p} é positivo.')\n",
        "    print(f'Somando-se com {i}, teremos {p + i}')\n",
        "  elif (p == 0):\n",
        "    print(f'O número {p} é positivo.')\n",
        "  else:\n",
        "    print(f'O número {p} é negativo.')\n",
        "\n",
        "\n"
      ],
      "execution_count": null,
      "outputs": []
    },
    {
      "cell_type": "code",
      "metadata": {
        "id": "p3gR3YNKLnM2"
      },
      "source": [
        "#6 Vale 0,5 na N1 do 2º BIMESTRE.\n",
        "\n",
        "n = []\n",
        "\n",
        "numbers = \"0 1 2 3 4 5 6 7 8 9\"\n",
        "resultado = numbers.split(\" \")\n",
        "n.append(resultado)\n",
        "\n",
        "print(n)\n",
        "  \n",
        "#Ou:\n",
        "\n",
        "class Pilha:\n",
        "    vet = [0, 1, 2, 3, 4, 5, 6, 7, 8, 9]\n",
        "\n",
        "pilha = Pilha()\n",
        "\n",
        "for i in range(0, 10):\n",
        "    print(pilha.vet[i])\n",
        "\n"
      ],
      "execution_count": null,
      "outputs": []
    },
    {
      "cell_type": "code",
      "metadata": {
        "id": "3bh3bdWRLqyX"
      },
      "source": [
        "#7 Vale 0,5 na N1 do 2º BIMESTRE.\n",
        "\n",
        "class Pilha:\n",
        "     def __init__(self,):\n",
        "         self.elementos = [5, 4, 12, 90]\n",
        "\n",
        "     def desempilhar(self):\n",
        "         return self.elementos.pop()\n",
        "\n",
        "pilha = Pilha()\n",
        "tam = len(pilha.elementos)\n",
        "\n",
        "for _ in range(0, tam):\n",
        "    print(f'O último elemento da lista é: {pilha.elementos[-1]}')\n",
        "    pilha.desempilhar()\n",
        "    if pilha.elementos == []:\n",
        "        print('Não há elementos na pilha.')\n",
        "\n",
        "\n"
      ],
      "execution_count": null,
      "outputs": []
    },
    {
      "cell_type": "code",
      "metadata": {
        "id": "0pnjQT6LLuZd"
      },
      "source": [
        "#8 Vale 0,5 na N1 do 2º BIMESTRE.\n",
        "\n",
        "class Pilha:\n",
        "    vet1 = [30, 35, 90]\n",
        "    vet2 = [100, 290, 294]\n",
        "    vetSoma = []\n",
        "\n",
        "    def somar(self):\n",
        "        v1 = self.vetSoma.append(self.vet1[-1] + self.vet2[-1])\n",
        "        v2 = self.vet1.pop()\n",
        "        v3 = self.vet2.pop()\n",
        "        return v1, v2, v3\n",
        "\n",
        "pilha = Pilha()\n",
        "q = len(pilha.vet1)\n",
        "\n",
        "for _ in range(0, q):\n",
        "    pilha.somar()\n",
        "print(pilha.vetSoma)\n",
        "\n",
        "\n",
        "#Obs.: Código opcional:\n",
        "\n",
        "s = [30, 35, 90, 100, 290,294]\n",
        "tamanho = len(s)\n",
        "szinho = s.pop()\n",
        "tamanho = tamanho-1\n",
        "\n",
        "for i in range(0,tamanho):\n",
        "  print(f'{s[i]} < {s[i]} + {szinho}')\n",
        "\n",
        "print(s)"
      ],
      "execution_count": null,
      "outputs": []
    },
    {
      "cell_type": "code",
      "metadata": {
        "id": "1FZF9kWCLyB2"
      },
      "source": [
        "#9 Vale 0,5 na N1 do 2º BIMESTRE.\n",
        "\n",
        "s = [0,15,30,60,70]\n",
        "s.pop(0)\n",
        "tamanho = len(s)\n",
        "\n",
        "for i in range(0,tamanho-1):\n",
        "  if (s[i] % 2 == 0):\n",
        "    print(f'{s[i]} é um número par.')\n",
        "  else:\n",
        "    print(f'{s[i]} é um número ímpar.')\n",
        "    \n",
        "fila = [0, 15, 30, 60, 70]\n",
        "tam = len(fila)\n",
        "print(f'A quantidade de elementos na lista é {tam}')\n",
        "\n",
        "for _ in range(0, tam):\n",
        "    if fila[0] % 2 == 0:\n",
        "        print(f'Removido par: {fila[0]}')\n",
        "        fila.pop(0)\n",
        "        print(f'A lista possui {len(fila)} elementos')\n",
        "    else:\n",
        "        print(f'Removido ímpar: {fila[0]}')\n",
        "        fila.pop(0)\n",
        "        print(f'A lista possui {len(fila)} elementos')\n"
      ],
      "execution_count": null,
      "outputs": []
    },
    {
      "cell_type": "code",
      "metadata": {
        "id": "oG60ay4LL1D6"
      },
      "source": [
        "#10 Vale 0,5 na N1 do 2º BIMESTRE.\n",
        "\n",
        "fila = [-9, 0, 15, 23, 7]\n",
        "tam = len(fila)\n",
        "print(f'A quantidade de elementos na lista é {tam}')\n",
        "\n",
        "for _ in range(0, tam):\n",
        "    if fila[0] > 0:\n",
        "        print(f'Removido positivo: {fila[0]}')\n",
        "        fila.pop(0)\n",
        "\n",
        "    elif fila[0] < 0:\n",
        "        print(f'Removido negativo: {fila[0]}')\n",
        "        fila.pop(0)\n",
        "\n",
        "    else:\n",
        "        print(f'Removido 0: {fila[0]}')\n",
        "        fila.pop(0)"
      ],
      "execution_count": null,
      "outputs": []
    }
  ]
}